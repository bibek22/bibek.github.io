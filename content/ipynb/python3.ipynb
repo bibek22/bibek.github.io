{
 "cells": [
  {
   "cell_type": "markdown",
   "metadata": {},
   "source": [
    "# Introduction to Programming in Python"
   ]
  },
  {
   "cell_type": "markdown",
   "metadata": {},
   "source": [
    "```\n",
    "Take notes as you go! \n",
    "Do everything I demonstrate as much as you can.\n",
    "Problems will come later.\n",
    "```"
   ]
  },
  {
   "cell_type": "markdown",
   "metadata": {},
   "source": [
    "###  Numbers\n",
    "\n",
    "\n",
    "\n",
    "\n",
    "\n"
   ]
  },
  {
   "cell_type": "code",
   "execution_count": 1,
   "metadata": {},
   "outputs": [
    {
     "data": {
      "text/plain": [
       "1"
      ]
     },
     "execution_count": 1,
     "metadata": {},
     "output_type": "execute_result"
    }
   ],
   "source": [
    "1"
   ]
  },
  {
   "cell_type": "code",
   "execution_count": 2,
   "metadata": {},
   "outputs": [
    {
     "data": {
      "text/plain": [
       "10"
      ]
     },
     "execution_count": 2,
     "metadata": {},
     "output_type": "execute_result"
    }
   ],
   "source": [
    "10     # simple integer"
   ]
  },
  {
   "cell_type": "markdown",
   "metadata": {},
   "source": [
    "Code vs. comments\n",
    "\n",
    "And when i use some **word that you are not familiar** with.  \n",
    "Just **stop me and ask**. Because everyone else is also  \n",
    "asking the same question in their head and i didn't realize."
   ]
  },
  {
   "cell_type": "code",
   "execution_count": 3,
   "metadata": {},
   "outputs": [
    {
     "data": {
      "text/plain": [
       "0.00123"
      ]
     },
     "execution_count": 3,
     "metadata": {},
     "output_type": "execute_result"
    }
   ],
   "source": [
    "1.23e-3  # floating points in scientific notation"
   ]
  },
  {
   "cell_type": "code",
   "execution_count": 4,
   "metadata": {},
   "outputs": [
    {
     "data": {
      "text/plain": [
       "(2+3j)"
      ]
     },
     "execution_count": 4,
     "metadata": {},
     "output_type": "execute_result"
    }
   ],
   "source": [
    "2+3j   # complex numbers"
   ]
  },
  {
   "cell_type": "code",
   "execution_count": 5,
   "metadata": {},
   "outputs": [
    {
     "data": {
      "text/plain": [
       "9.0"
      ]
     },
     "execution_count": 5,
     "metadata": {},
     "output_type": "execute_result"
    }
   ],
   "source": [
    "7*2 - 25/5    # basic arithmetic"
   ]
  },
  {
   "cell_type": "markdown",
   "metadata": {},
   "source": [
    "can't I store them or something?"
   ]
  },
  {
   "cell_type": "markdown",
   "metadata": {},
   "source": [
    "yes. we store them. We can give them names which are called variables."
   ]
  },
  {
   "cell_type": "markdown",
   "metadata": {},
   "source": [
    "### Variables \n",
    "\n",
    "variables in python are:\n",
    "1. implicitly declared.\n",
    "2. dynamically typed."
   ]
  },
  {
   "cell_type": "code",
   "execution_count": 6,
   "metadata": {
    "scrolled": true
   },
   "outputs": [
    {
     "name": "stdout",
     "output_type": "stream",
     "text": [
      "5.2\n"
     ]
    }
   ],
   "source": [
    "a = 5  # variable declaration and assignment\n",
    "b = 2e-1  \n",
    "c = a + b\n",
    "print(c)"
   ]
  },
  {
   "cell_type": "code",
   "execution_count": 7,
   "metadata": {},
   "outputs": [
    {
     "data": {
      "text/plain": [
       "int"
      ]
     },
     "execution_count": 7,
     "metadata": {},
     "output_type": "execute_result"
    }
   ],
   "source": [
    "type(a)\n",
    "\n",
    "# type() function gives the type of a variable\n",
    "# or data."
   ]
  },
  {
   "cell_type": "markdown",
   "metadata": {},
   "source": [
    "#### But, wait!  What are functions?\n",
    "\n",
    "Functions in computer programs are like those in mathematics.  \n",
    "They take some inputs, do something to them and (usually)   \n",
    "return some output."
   ]
  },
  {
   "cell_type": "markdown",
   "metadata": {},
   "source": [
    "The Line we saw above is called a **function call**  \n",
    "but you can also think of it as running a machine that performs  \n",
    "a specific task.  \n",
    "Inputs to a functions are called **arguments**.  \n",
    "`functionName(argument1, argument2, ..)`  \n",
    "\n",
    "And the result is called **return value**."
   ]
  },
  {
   "cell_type": "code",
   "execution_count": 8,
   "metadata": {},
   "outputs": [
    {
     "data": {
      "text/plain": [
       "str"
      ]
     },
     "execution_count": 8,
     "metadata": {},
     "output_type": "execute_result"
    }
   ],
   "source": [
    "type(\"hi everyone!\")"
   ]
  },
  {
   "cell_type": "markdown",
   "metadata": {},
   "source": [
    "#### What's str ??"
   ]
  },
  {
   "cell_type": "markdown",
   "metadata": {},
   "source": [
    "What we generally call \"text\" in normal talk is called string \n",
    "in programming."
   ]
  },
  {
   "cell_type": "code",
   "execution_count": 9,
   "metadata": {},
   "outputs": [],
   "source": [
    "college = \"St. Xavier's College\""
   ]
  },
  {
   "cell_type": "code",
   "execution_count": 10,
   "metadata": {},
   "outputs": [
    {
     "ename": "SyntaxError",
     "evalue": "invalid syntax (<ipython-input-10-092931d47764>, line 1)",
     "output_type": "error",
     "traceback": [
      "\u001b[0;36m  File \u001b[0;32m\"<ipython-input-10-092931d47764>\"\u001b[0;36m, line \u001b[0;32m1\u001b[0m\n\u001b[0;31m    1stName = \"bibek\"   # no digits allowed as the first character\u001b[0m\n\u001b[0m          ^\u001b[0m\n\u001b[0;31mSyntaxError\u001b[0m\u001b[0;31m:\u001b[0m invalid syntax\n"
     ]
    }
   ],
   "source": [
    " 1stName = \"bibek\"   # no digits allowed as the first character\n",
    "# name_1st is okay!"
   ]
  },
  {
   "cell_type": "code",
   "execution_count": 11,
   "metadata": {},
   "outputs": [
    {
     "ename": "SyntaxError",
     "evalue": "invalid syntax (<ipython-input-11-86ebb738ef0a>, line 1)",
     "output_type": "error",
     "traceback": [
      "\u001b[0;36m  File \u001b[0;32m\"<ipython-input-11-86ebb738ef0a>\"\u001b[0;36m, line \u001b[0;32m1\u001b[0m\n\u001b[0;31m    class = \"BSC-III\"   # keywords are reserved\u001b[0m\n\u001b[0m          ^\u001b[0m\n\u001b[0;31mSyntaxError\u001b[0m\u001b[0;31m:\u001b[0m invalid syntax\n"
     ]
    }
   ],
   "source": [
    "class = \"BSC-III\"   # keywords are reserved"
   ]
  },
  {
   "cell_type": "markdown",
   "metadata": {},
   "source": [
    "few more **keywords** are :  \n",
    "**def, True, False, if, else, while, for, not, in**,  etc..\n",
    "\n"
   ]
  },
  {
   "cell_type": "markdown",
   "metadata": {},
   "source": [
    "#### Strings in python are first class citizens !"
   ]
  },
  {
   "cell_type": "code",
   "execution_count": 12,
   "metadata": {},
   "outputs": [],
   "source": [
    "country = \"Nepal\""
   ]
  },
  {
   "cell_type": "code",
   "execution_count": 13,
   "metadata": {},
   "outputs": [
    {
     "data": {
      "text/plain": [
       "'I love Nepal.'"
      ]
     },
     "execution_count": 13,
     "metadata": {},
     "output_type": "execute_result"
    }
   ],
   "source": [
    "\"I love \" + country + \".\""
   ]
  },
  {
   "cell_type": "markdown",
   "metadata": {},
   "source": [
    "^^    This is called concatenation ! Adding strings together."
   ]
  },
  {
   "cell_type": "markdown",
   "metadata": {},
   "source": [
    "You were talking about functions !!"
   ]
  },
  {
   "cell_type": "markdown",
   "metadata": {},
   "source": [
    "Okay, here's one more!"
   ]
  },
  {
   "cell_type": "code",
   "execution_count": 14,
   "metadata": {},
   "outputs": [
    {
     "name": "stdout",
     "output_type": "stream",
     "text": [
      "Enter some text: \n"
     ]
    }
   ],
   "source": [
    "text = input(\"Enter some text: \")\n",
    "# a function to take inputs from keyboard"
   ]
  },
  {
   "cell_type": "code",
   "execution_count": 15,
   "metadata": {},
   "outputs": [
    {
     "data": {
      "text/plain": [
       "''"
      ]
     },
     "execution_count": 15,
     "metadata": {},
     "output_type": "execute_result"
    }
   ],
   "source": [
    "text.replace(\"i\", \"y\")"
   ]
  },
  {
   "cell_type": "code",
   "execution_count": 16,
   "metadata": {},
   "outputs": [
    {
     "data": {
      "text/plain": [
       "''"
      ]
     },
     "execution_count": 16,
     "metadata": {},
     "output_type": "execute_result"
    }
   ],
   "source": [
    "text"
   ]
  },
  {
   "cell_type": "code",
   "execution_count": 17,
   "metadata": {},
   "outputs": [
    {
     "ename": "SyntaxError",
     "evalue": "unexpected EOF while parsing (<ipython-input-17-c293c3f42586>, line 1)",
     "output_type": "error",
     "traceback": [
      "\u001b[0;36m  File \u001b[0;32m\"<ipython-input-17-c293c3f42586>\"\u001b[0;36m, line \u001b[0;32m1\u001b[0m\n\u001b[0;31m    text.count(\"i\"\u001b[0m\n\u001b[0m                  ^\u001b[0m\n\u001b[0;31mSyntaxError\u001b[0m\u001b[0;31m:\u001b[0m unexpected EOF while parsing\n"
     ]
    }
   ],
   "source": [
    "text.count(\"i\""
   ]
  },
  {
   "cell_type": "code",
   "execution_count": 18,
   "metadata": {},
   "outputs": [
    {
     "data": {
      "text/plain": [
       "['']"
      ]
     },
     "execution_count": 18,
     "metadata": {},
     "output_type": "execute_result"
    }
   ],
   "source": [
    "text.split(\" \")"
   ]
  },
  {
   "cell_type": "code",
   "execution_count": 19,
   "metadata": {},
   "outputs": [
    {
     "data": {
      "text/plain": [
       "False"
      ]
     },
     "execution_count": 19,
     "metadata": {},
     "output_type": "execute_result"
    }
   ],
   "source": [
    "text.isdigit()"
   ]
  },
  {
   "cell_type": "code",
   "execution_count": 20,
   "metadata": {},
   "outputs": [
    {
     "data": {
      "text/plain": [
       "''"
      ]
     },
     "execution_count": 20,
     "metadata": {},
     "output_type": "execute_result"
    }
   ],
   "source": [
    "text[::-1]"
   ]
  },
  {
   "cell_type": "markdown",
   "metadata": {},
   "source": [
    "#### Whoa ! What just happened??"
   ]
  },
  {
   "cell_type": "markdown",
   "metadata": {},
   "source": [
    "### Splicing\n",
    "\n",
    "`string[start:end:step]`\n"
   ]
  },
  {
   "cell_type": "code",
   "execution_count": 21,
   "metadata": {},
   "outputs": [],
   "source": [
    "statement = \"PythonIsAwesome!\""
   ]
  },
  {
   "cell_type": "code",
   "execution_count": 22,
   "metadata": {},
   "outputs": [
    {
     "data": {
      "text/plain": [
       "'PythonIsAwesome!PythonIsAwesome!'"
      ]
     },
     "execution_count": 22,
     "metadata": {},
     "output_type": "execute_result"
    }
   ],
   "source": [
    "statement*2"
   ]
  },
  {
   "cell_type": "code",
   "execution_count": 23,
   "metadata": {},
   "outputs": [
    {
     "ename": "TypeError",
     "evalue": "can't multiply sequence by non-int of type 'float'",
     "output_type": "error",
     "traceback": [
      "\u001b[0;31m---------------------------------------------------------------------------\u001b[0m",
      "\u001b[0;31mTypeError\u001b[0m                                 Traceback (most recent call last)",
      "\u001b[0;32m<ipython-input-23-98c3f2dda63f>\u001b[0m in \u001b[0;36m<module>\u001b[0;34m\u001b[0m\n\u001b[0;32m----> 1\u001b[0;31m \u001b[0mstatement\u001b[0m\u001b[0;34m*\u001b[0m\u001b[0;36m5.0\u001b[0m  \u001b[0;31m# not allowed\u001b[0m\u001b[0;34m\u001b[0m\u001b[0;34m\u001b[0m\u001b[0m\n\u001b[0m",
      "\u001b[0;31mTypeError\u001b[0m: can't multiply sequence by non-int of type 'float'"
     ]
    }
   ],
   "source": [
    "statement*5.0  # not allowed"
   ]
  },
  {
   "cell_type": "code",
   "execution_count": 24,
   "metadata": {},
   "outputs": [
    {
     "ename": "TypeError",
     "evalue": "can't multiply sequence by non-int of type 'str'",
     "output_type": "error",
     "traceback": [
      "\u001b[0;31m---------------------------------------------------------------------------\u001b[0m",
      "\u001b[0;31mTypeError\u001b[0m                                 Traceback (most recent call last)",
      "\u001b[0;32m<ipython-input-24-51b047b3f69f>\u001b[0m in \u001b[0;36m<module>\u001b[0;34m\u001b[0m\n\u001b[0;32m----> 1\u001b[0;31m \u001b[0mstatement\u001b[0m\u001b[0;34m*\u001b[0m\u001b[0mstatement\u001b[0m   \u001b[0;31m# not allowed\u001b[0m\u001b[0;34m\u001b[0m\u001b[0;34m\u001b[0m\u001b[0m\n\u001b[0m",
      "\u001b[0;31mTypeError\u001b[0m: can't multiply sequence by non-int of type 'str'"
     ]
    }
   ],
   "source": [
    "statement*statement   # not allowed"
   ]
  },
  {
   "cell_type": "code",
   "execution_count": 25,
   "metadata": {},
   "outputs": [
    {
     "data": {
      "text/plain": [
       "'yosem'"
      ]
     },
     "execution_count": 25,
     "metadata": {},
     "output_type": "execute_result"
    }
   ],
   "source": [
    "statement[1:16:3]"
   ]
  },
  {
   "cell_type": "markdown",
   "metadata": {},
   "source": [
    "So, index starts at 0."
   ]
  },
  {
   "cell_type": "code",
   "execution_count": 26,
   "metadata": {},
   "outputs": [
    {
     "data": {
      "text/plain": [
       "'PhIwo!'"
      ]
     },
     "execution_count": 26,
     "metadata": {},
     "output_type": "execute_result"
    }
   ],
   "source": [
    "statement[:16:3]  # omiting value means 0 for start and -1 for end"
   ]
  },
  {
   "cell_type": "code",
   "execution_count": 27,
   "metadata": {},
   "outputs": [
    {
     "data": {
      "text/plain": [
       "'PythonIsAwesome!'"
      ]
     },
     "execution_count": 27,
     "metadata": {},
     "output_type": "execute_result"
    }
   ],
   "source": [
    "statement[:] # step can be omitted and it defaults to 1."
   ]
  },
  {
   "cell_type": "code",
   "execution_count": 28,
   "metadata": {},
   "outputs": [
    {
     "data": {
      "text/plain": [
       "'!emosewAsInohtyP'"
      ]
     },
     "execution_count": 28,
     "metadata": {},
     "output_type": "execute_result"
    }
   ],
   "source": [
    "statement[::-1]   # that should explain it."
   ]
  },
  {
   "cell_type": "markdown",
   "metadata": {},
   "source": [
    "#### Exercises about string and inputs"
   ]
  },
  {
   "cell_type": "markdown",
   "metadata": {},
   "source": [
    "### Importing Modules\n",
    "Tell me more about functions:"
   ]
  },
  {
   "cell_type": "markdown",
   "metadata": {},
   "source": [
    "#### To get more functions ! \n",
    "you can import them.   \n",
    "We import functions from what are called modules (C would call it library and header file.)  \n",
    "`\n",
    "import math\n",
    "import numpy\n",
    "`"
   ]
  },
  {
   "cell_type": "code",
   "execution_count": 29,
   "metadata": {},
   "outputs": [],
   "source": [
    "import math"
   ]
  },
  {
   "cell_type": "code",
   "execution_count": 30,
   "metadata": {
    "scrolled": true
   },
   "outputs": [
    {
     "data": {
      "text/plain": [
       "3.141592653589793"
      ]
     },
     "execution_count": 30,
     "metadata": {},
     "output_type": "execute_result"
    }
   ],
   "source": [
    "math.pi"
   ]
  },
  {
   "cell_type": "code",
   "execution_count": 31,
   "metadata": {
    "scrolled": true
   },
   "outputs": [
    {
     "data": {
      "text/plain": [
       "2.718281828459045"
      ]
     },
     "execution_count": 31,
     "metadata": {},
     "output_type": "execute_result"
    }
   ],
   "source": [
    "math.e"
   ]
  },
  {
   "cell_type": "code",
   "execution_count": 32,
   "metadata": {},
   "outputs": [
    {
     "data": {
      "text/plain": [
       "1.4142135623730951"
      ]
     },
     "execution_count": 32,
     "metadata": {},
     "output_type": "execute_result"
    }
   ],
   "source": [
    "math.sqrt(2)"
   ]
  },
  {
   "cell_type": "code",
   "execution_count": 33,
   "metadata": {},
   "outputs": [
    {
     "data": {
      "text/plain": [
       "1.2246467991473532e-16"
      ]
     },
     "execution_count": 33,
     "metadata": {},
     "output_type": "execute_result"
    }
   ],
   "source": [
    "math.sin(math.pi) \n",
    "# not exactly zero because pi is  \n",
    "# irrational and we've used finite decimals"
   ]
  },
  {
   "cell_type": "code",
   "execution_count": 34,
   "metadata": {
    "scrolled": true
   },
   "outputs": [
    {
     "data": {
      "text/plain": [
       "0.0"
      ]
     },
     "execution_count": 34,
     "metadata": {},
     "output_type": "execute_result"
    }
   ],
   "source": [
    "math.sin(0)"
   ]
  },
  {
   "cell_type": "markdown",
   "metadata": {},
   "source": [
    "### function definition and Flow of execution"
   ]
  },
  {
   "cell_type": "markdown",
   "metadata": {},
   "source": [
    "Let's create a function which takes two   \n",
    "inputs - **base and height** of a right angled  \n",
    "triangle and outputs the **hypotenuse**.  \n",
    "  \n",
    "Let's call the function `getHyp`"
   ]
  },
  {
   "cell_type": "code",
   "execution_count": 35,
   "metadata": {},
   "outputs": [],
   "source": [
    "# import math   <- this already done above.\n",
    "def getHyp(a, b):\n",
    "    h = math.sqrt(a**2 + b**2)\n",
    "    return(h)"
   ]
  },
  {
   "cell_type": "code",
   "execution_count": 36,
   "metadata": {},
   "outputs": [
    {
     "data": {
      "text/plain": [
       "5.0"
      ]
     },
     "execution_count": 36,
     "metadata": {},
     "output_type": "execute_result"
    }
   ],
   "source": [
    "getHyp(4, 3)"
   ]
  },
  {
   "cell_type": "code",
   "execution_count": 37,
   "metadata": {},
   "outputs": [
    {
     "data": {
      "text/plain": [
       "13.0"
      ]
     },
     "execution_count": 37,
     "metadata": {},
     "output_type": "execute_result"
    }
   ],
   "source": [
    "getHyp(getHyp(4,3), 12)  # Flow of execution"
   ]
  },
  {
   "cell_type": "markdown",
   "metadata": {},
   "source": [
    "Let's create a function which takes one   \n",
    "input - **some text** (aka a string) and  \n",
    "outputs the **number of occurance of letter e**.  \n",
    "   \n",
    "Let's call the function `countE`"
   ]
  },
  {
   "cell_type": "code",
   "execution_count": 38,
   "metadata": {},
   "outputs": [],
   "source": [
    "def countE(string):\n",
    "    total = string.count(\"e\")\n",
    "    return total"
   ]
  },
  {
   "cell_type": "code",
   "execution_count": 39,
   "metadata": {},
   "outputs": [
    {
     "data": {
      "text/plain": [
       "3"
      ]
     },
     "execution_count": 39,
     "metadata": {},
     "output_type": "execute_result"
    }
   ],
   "source": [
    "a  = \"My name is Bibek and I'm not a terorist.\"\n",
    "countE(a)"
   ]
  },
  {
   "cell_type": "markdown",
   "metadata": {},
   "source": [
    "Ex. Count e by taking input from keyboard"
   ]
  },
  {
   "cell_type": "markdown",
   "metadata": {},
   "source": [
    "Ex. Count some letter by taking string and  \n",
    "the letter **both** from keyboard."
   ]
  },
  {
   "cell_type": "markdown",
   "metadata": {},
   "source": [
    "### Namescope  "
   ]
  },
  {
   "cell_type": "markdown",
   "metadata": {},
   "source": [
    "#### Lets talk about one more data type:\n",
    "Boolean type:  \n",
    "As the name suggests, it stores binary values: "
   ]
  },
  {
   "cell_type": "code",
   "execution_count": 40,
   "metadata": {},
   "outputs": [],
   "source": [
    "a = True\n",
    "b = False"
   ]
  },
  {
   "cell_type": "code",
   "execution_count": 41,
   "metadata": {},
   "outputs": [
    {
     "data": {
      "text/plain": [
       "False"
      ]
     },
     "execution_count": 41,
     "metadata": {},
     "output_type": "execute_result"
    }
   ],
   "source": [
    "3 == 4"
   ]
  },
  {
   "cell_type": "code",
   "execution_count": 42,
   "metadata": {},
   "outputs": [
    {
     "data": {
      "text/plain": [
       "True"
      ]
     },
     "execution_count": 42,
     "metadata": {},
     "output_type": "execute_result"
    }
   ],
   "source": [
    "a == 1"
   ]
  },
  {
   "cell_type": "code",
   "execution_count": 43,
   "metadata": {},
   "outputs": [
    {
     "data": {
      "text/plain": [
       "True"
      ]
     },
     "execution_count": 43,
     "metadata": {},
     "output_type": "execute_result"
    }
   ],
   "source": [
    "False == False"
   ]
  },
  {
   "cell_type": "code",
   "execution_count": 44,
   "metadata": {},
   "outputs": [
    {
     "data": {
      "text/plain": [
       "True"
      ]
     },
     "execution_count": 44,
     "metadata": {},
     "output_type": "execute_result"
    }
   ],
   "source": [
    "False != True"
   ]
  },
  {
   "cell_type": "code",
   "execution_count": 45,
   "metadata": {
    "scrolled": true
   },
   "outputs": [
    {
     "data": {
      "text/plain": [
       "True"
      ]
     },
     "execution_count": 45,
     "metadata": {},
     "output_type": "execute_result"
    }
   ],
   "source": [
    "3 >= 32\n",
    "4 <= 5\n",
    "\"me\" != \"you\""
   ]
  },
  {
   "cell_type": "markdown",
   "metadata": {},
   "source": [
    "Yo sab ta thik xa I want more functions! Functions are cool!\n",
    "## Some more functions!"
   ]
  },
  {
   "cell_type": "code",
   "execution_count": 46,
   "metadata": {},
   "outputs": [],
   "source": [
    "def absolute(n):\n",
    "    if not (n < 0):    # could put the conditional in parenthesis!\n",
    "        return(-n)\n",
    "    else:\n",
    "        return(n)"
   ]
  },
  {
   "cell_type": "markdown",
   "metadata": {},
   "source": [
    "Write a function that takes age of the user from  \n",
    "the **keyboard** and tells(*prints*) if the user is legally allowed  \n",
    "to have license. (allowed if age is **at least 18**)"
   ]
  },
  {
   "cell_type": "markdown",
   "metadata": {},
   "source": [
    "Some more functions!!"
   ]
  },
  {
   "cell_type": "markdown",
   "metadata": {},
   "source": [
    "Write a program that takes a number **n**  \n",
    "as argument and computes n! (n factorial)  \n",
    "name the function `factorial`"
   ]
  },
  {
   "cell_type": "markdown",
   "metadata": {},
   "source": [
    "#### Above is called a recursive function.  \n",
    "a function that calls itself. \n",
    "\n",
    "Explain the recursion!"
   ]
  },
  {
   "cell_type": "markdown",
   "metadata": {},
   "source": [
    "Bonus Question:  \n",
    "   - Write a function `fibonacci(n)` that takes a  \n",
    "    integer **n** and returns $n^{th}$ number of fibonacci  \n",
    "    series: $1, 1, 2, 3, 5, 8, 13,$ etc... "
   ]
  },
  {
   "cell_type": "code",
   "execution_count": 47,
   "metadata": {},
   "outputs": [
    {
     "data": {
      "text/plain": [
       "-0.2294857773288854"
      ]
     },
     "execution_count": 47,
     "metadata": {},
     "output_type": "execute_result"
    }
   ],
   "source": [
    "import random    # random info \n",
    "random.random()\n",
    "random.normalvariate(0, 1)  # mu and sigma"
   ]
  },
  {
   "cell_type": "markdown",
   "metadata": {},
   "source": [
    "Show the Thinking like a programmer slide  \n",
    "from slide (page 14) before repetition"
   ]
  },
  {
   "cell_type": "markdown",
   "metadata": {},
   "source": [
    "### Before we move on to repetition aspect; let's make a game !\n",
    "It'll be a simple game. We can't make fortnite and PUBG yet.\n",
    "**Game of Dice:**\n"
   ]
  },
  {
   "cell_type": "code",
   "execution_count": 48,
   "metadata": {},
   "outputs": [],
   "source": [
    "import math\n",
    "import random\n",
    "def rollDice():\n",
    "    faceUp = math.ceil(random.random() * 6)\n",
    "    return(faceUp)"
   ]
  },
  {
   "cell_type": "code",
   "execution_count": 49,
   "metadata": {},
   "outputs": [
    {
     "data": {
      "text/plain": [
       "2"
      ]
     },
     "execution_count": 49,
     "metadata": {},
     "output_type": "execute_result"
    }
   ],
   "source": [
    "rollDice()    # now, if only we could run this on repeat !"
   ]
  },
  {
   "cell_type": "markdown",
   "metadata": {},
   "source": [
    "### Let me show you yet another function!"
   ]
  },
  {
   "cell_type": "code",
   "execution_count": 50,
   "metadata": {},
   "outputs": [],
   "source": [
    "def sumN(n):\n",
    "    totalSum = 0\n",
    "    for i in range(n+1):\n",
    "        totalSum = totalSum + i\n",
    "    return(totalSum)"
   ]
  },
  {
   "cell_type": "code",
   "execution_count": 51,
   "metadata": {},
   "outputs": [
    {
     "data": {
      "text/plain": [
       "5050"
      ]
     },
     "execution_count": 51,
     "metadata": {},
     "output_type": "execute_result"
    }
   ],
   "source": [
    "sumN(100)"
   ]
  },
  {
   "cell_type": "markdown",
   "metadata": {},
   "source": [
    "Let's dissect the program !"
   ]
  },
  {
   "cell_type": "code",
   "execution_count": 52,
   "metadata": {},
   "outputs": [
    {
     "name": "stdout",
     "output_type": "stream",
     "text": [
      "0\n",
      "1\n",
      "2\n",
      "3\n",
      "4\n",
      "5\n",
      "6\n",
      "7\n",
      "8\n",
      "9\n"
     ]
    }
   ],
   "source": [
    "for i in range(10):  # explain for loop here !\n",
    "    print(i)"
   ]
  },
  {
   "cell_type": "code",
   "execution_count": 53,
   "metadata": {},
   "outputs": [
    {
     "data": {
      "text/plain": [
       "[0, 1, 2, 3, 4, 5, 6, 7, 8, 9]"
      ]
     },
     "execution_count": 53,
     "metadata": {},
     "output_type": "execute_result"
    }
   ],
   "source": [
    "[i  for i in range(10)]  # list comprehension !"
   ]
  },
  {
   "cell_type": "code",
   "execution_count": 54,
   "metadata": {},
   "outputs": [
    {
     "data": {
      "text/plain": [
       "[0, 1, 4, 9, 16, 25, 36, 49, 64, 81]"
      ]
     },
     "execution_count": 54,
     "metadata": {},
     "output_type": "execute_result"
    }
   ],
   "source": [
    "[i**2  for i in range(10)]  # list comprehension !"
   ]
  },
  {
   "cell_type": "code",
   "execution_count": 55,
   "metadata": {},
   "outputs": [
    {
     "data": {
      "text/plain": [
       "[0, 2, 4, 6, 8]"
      ]
     },
     "execution_count": 55,
     "metadata": {},
     "output_type": "execute_result"
    }
   ],
   "source": [
    "[i  for i in range(10) if (i % 2 == 0)]  "
   ]
  },
  {
   "cell_type": "code",
   "execution_count": 56,
   "metadata": {},
   "outputs": [
    {
     "data": {
      "text/plain": [
       "[0, 4, 16, 36, 64]"
      ]
     },
     "execution_count": 56,
     "metadata": {},
     "output_type": "execute_result"
    }
   ],
   "source": [
    "[i**2  for i in range(10) if (i % 2 == 0)]  "
   ]
  },
  {
   "cell_type": "markdown",
   "metadata": {},
   "source": [
    "`range(start, stop, step)` # doesn't include stop"
   ]
  },
  {
   "cell_type": "markdown",
   "metadata": {},
   "source": [
    "So, range(n) gives a list of numbers from 0 to n-1. "
   ]
  },
  {
   "cell_type": "markdown",
   "metadata": {},
   "source": [
    "**Ex.** print the squares of first 10 natural numbers:\n"
   ]
  },
  {
   "cell_type": "code",
   "execution_count": 57,
   "metadata": {
    "scrolled": false
   },
   "outputs": [
    {
     "name": "stdout",
     "output_type": "stream",
     "text": [
      "1\n",
      "4\n",
      "9\n",
      "16\n",
      "25\n",
      "36\n",
      "49\n",
      "64\n",
      "81\n",
      "100\n"
     ]
    }
   ],
   "source": [
    "for i in range(1, 11):\n",
    "    print(i**2)"
   ]
  },
  {
   "cell_type": "markdown",
   "metadata": {},
   "source": [
    "**Ex.** print the first 5 odd integers:"
   ]
  },
  {
   "cell_type": "code",
   "execution_count": 58,
   "metadata": {
    "scrolled": false
   },
   "outputs": [
    {
     "name": "stdout",
     "output_type": "stream",
     "text": [
      "1\n",
      "3\n",
      "5\n",
      "7\n",
      "9\n"
     ]
    }
   ],
   "source": [
    "for n in range(5):\n",
    "    print(2*n+1)"
   ]
  },
  {
   "cell_type": "markdown",
   "metadata": {},
   "source": [
    "### range() returns what are known as iterables.  \n",
    "We can put any interable in place of range() in for loop. \n",
    "One example is good old string."
   ]
  },
  {
   "cell_type": "code",
   "execution_count": 59,
   "metadata": {},
   "outputs": [
    {
     "name": "stdout",
     "output_type": "stream",
     "text": [
      "h\n",
      "e\n",
      "l\n",
      "l\n",
      "o\n",
      " \n",
      "W\n",
      "o\n",
      "r\n",
      "l\n",
      "d\n",
      "!\n"
     ]
    }
   ],
   "source": [
    "for i in \"hello World!\":\n",
    "    print(i)"
   ]
  },
  {
   "cell_type": "markdown",
   "metadata": {},
   "source": [
    "#### Implement countE() function written above but without string.count() method.\n",
    "using loops and conditionals"
   ]
  },
  {
   "cell_type": "code",
   "execution_count": 60,
   "metadata": {
    "scrolled": true
   },
   "outputs": [
    {
     "name": "stdout",
     "output_type": "stream",
     "text": [
      "740740740740740740740740740740740740740740740740740740740740740740740740740740740740740740740740740740740740740740740740740740740740740740740740740740740740740740740740740740740740740740740740740740740740740740740740740740740740740740740740740740740740740740740740740740740740740740740740740740740740740740740740740740740740740740740740740740740740740740740740740740740740740740740740740740740740740740740740740740740740740740740740740740740740740740740740740740740740740740740740740740740740740740740740740740740740740740740740740740740740740740740740740740740740740740740740740740740740740740740740740740740740740740740740740740740740740740740740740740740740740296\n"
     ]
    }
   ],
   "source": [
    "six = \"6\"\n",
    "sum = 0\n",
    "for i in range(1, 667):\n",
    "    newValue = six*i\n",
    "    newValue = int(newValue)\n",
    "    sum = sum + newValue\n",
    "print(sum)"
   ]
  },
  {
   "cell_type": "markdown",
   "metadata": {},
   "source": [
    "#### Write a program that lists all the numbers divisible by 7 but not a multiple of 5 between 1,000 and 3,000 (both included)."
   ]
  },
  {
   "cell_type": "markdown",
   "metadata": {},
   "source": [
    "Let's do this with while loop "
   ]
  },
  {
   "cell_type": "code",
   "execution_count": 61,
   "metadata": {},
   "outputs": [
    {
     "name": "stdout",
     "output_type": "stream",
     "text": [
      "1001 , \n",
      "1008 , \n",
      "1022 , \n",
      "1029 , \n",
      "1036 , \n",
      "1043 , \n",
      "1057 , \n",
      "1064 , \n",
      "1071 , \n",
      "1078 , \n",
      "1092 , \n",
      "1099 , \n",
      "1106 , \n",
      "1113 , \n",
      "1127 , \n",
      "1134 , \n",
      "1141 , \n",
      "1148 , \n",
      "1162 , \n",
      "1169 , \n",
      "1176 , \n",
      "1183 , \n",
      "1197 , \n",
      "1204 , \n",
      "1211 , \n",
      "1218 , \n",
      "1232 , \n",
      "1239 , \n",
      "1246 , \n",
      "1253 , \n",
      "1267 , \n",
      "1274 , \n",
      "1281 , \n",
      "1288 , \n",
      "1302 , \n",
      "1309 , \n",
      "1316 , \n",
      "1323 , \n",
      "1337 , \n",
      "1344 , \n",
      "1351 , \n",
      "1358 , \n",
      "1372 , \n",
      "1379 , \n",
      "1386 , \n",
      "1393 , \n",
      "1407 , \n",
      "1414 , \n",
      "1421 , \n",
      "1428 , \n",
      "1442 , \n",
      "1449 , \n",
      "1456 , \n",
      "1463 , \n",
      "1477 , \n",
      "1484 , \n",
      "1491 , \n",
      "1498 , \n",
      "1512 , \n",
      "1519 , \n",
      "1526 , \n",
      "1533 , \n",
      "1547 , \n",
      "1554 , \n",
      "1561 , \n",
      "1568 , \n",
      "1582 , \n",
      "1589 , \n",
      "1596 , \n",
      "1603 , \n",
      "1617 , \n",
      "1624 , \n",
      "1631 , \n",
      "1638 , \n",
      "1652 , \n",
      "1659 , \n",
      "1666 , \n",
      "1673 , \n",
      "1687 , \n",
      "1694 , \n",
      "1701 , \n",
      "1708 , \n",
      "1722 , \n",
      "1729 , \n",
      "1736 , \n",
      "1743 , \n",
      "1757 , \n",
      "1764 , \n",
      "1771 , \n",
      "1778 , \n",
      "1792 , \n",
      "1799 , \n",
      "1806 , \n",
      "1813 , \n",
      "1827 , \n",
      "1834 , \n",
      "1841 , \n",
      "1848 , \n",
      "1862 , \n",
      "1869 , \n",
      "1876 , \n",
      "1883 , \n",
      "1897 , \n",
      "1904 , \n",
      "1911 , \n",
      "1918 , \n",
      "1932 , \n",
      "1939 , \n",
      "1946 , \n",
      "1953 , \n",
      "1967 , \n",
      "1974 , \n",
      "1981 , \n",
      "1988 , \n"
     ]
    }
   ],
   "source": [
    "i = 1000             # think of i as saying 'index' or just a\n",
    "                    # running variable that we are used to in Summation notation.\n",
    "while (i <= 2000):\n",
    "    if (i%7 == 0) and (i%5 != 0):\n",
    "        print(i, \", \")\n",
    "    i += 1"
   ]
  },
  {
   "cell_type": "markdown",
   "metadata": {},
   "source": [
    "This just prints the numbers and exits.  \n",
    "Wouldn't it be nice if there was a way  \n",
    "to put them in a list ?  \n",
    "That's what we are going to learn next:  List !"
   ]
  },
  {
   "cell_type": "markdown",
   "metadata": {},
   "source": [
    "### Data Type: Lists"
   ]
  },
  {
   "cell_type": "code",
   "execution_count": 62,
   "metadata": {},
   "outputs": [],
   "source": [
    "a = [1,2,3]"
   ]
  },
  {
   "cell_type": "code",
   "execution_count": 63,
   "metadata": {},
   "outputs": [
    {
     "data": {
      "text/plain": [
       "list"
      ]
     },
     "execution_count": 63,
     "metadata": {},
     "output_type": "execute_result"
    }
   ],
   "source": [
    "type(a)"
   ]
  },
  {
   "cell_type": "code",
   "execution_count": 64,
   "metadata": {},
   "outputs": [
    {
     "data": {
      "text/plain": [
       "3"
      ]
     },
     "execution_count": 64,
     "metadata": {},
     "output_type": "execute_result"
    }
   ],
   "source": [
    "len(a)"
   ]
  },
  {
   "cell_type": "code",
   "execution_count": 65,
   "metadata": {},
   "outputs": [
    {
     "name": "stdout",
     "output_type": "stream",
     "text": [
      "1\n",
      "2\n",
      "3\n"
     ]
    }
   ],
   "source": [
    "for i in a:   # list is also what is known as iterable\n",
    "    print(i)"
   ]
  },
  {
   "cell_type": "code",
   "execution_count": 66,
   "metadata": {},
   "outputs": [],
   "source": [
    "a.append(4)"
   ]
  },
  {
   "cell_type": "code",
   "execution_count": 67,
   "metadata": {},
   "outputs": [],
   "source": [
    "a.reverse()"
   ]
  },
  {
   "cell_type": "code",
   "execution_count": 68,
   "metadata": {},
   "outputs": [],
   "source": [
    "a.sort()   # how would you sort descending ? \n",
    "# also this sorts in place \n",
    "# can't recover original ordering\n",
    "# optional parameter reverse=False"
   ]
  },
  {
   "cell_type": "code",
   "execution_count": 69,
   "metadata": {},
   "outputs": [],
   "source": [
    "b = sorted(a)   \n",
    "# this takes input and gives output\n",
    "# which means it doesn't tamper with original list  !"
   ]
  },
  {
   "cell_type": "code",
   "execution_count": 70,
   "metadata": {},
   "outputs": [
    {
     "data": {
      "text/plain": [
       "[1, 2, 3, 4]"
      ]
     },
     "execution_count": 70,
     "metadata": {},
     "output_type": "execute_result"
    }
   ],
   "source": [
    "a"
   ]
  },
  {
   "cell_type": "markdown",
   "metadata": {},
   "source": [
    "Splicing a list works similar to splicing a string"
   ]
  },
  {
   "cell_type": "code",
   "execution_count": 71,
   "metadata": {},
   "outputs": [
    {
     "data": {
      "text/plain": [
       "[2, 3]"
      ]
     },
     "execution_count": 71,
     "metadata": {},
     "output_type": "execute_result"
    }
   ],
   "source": [
    "a[1:3]"
   ]
  },
  {
   "cell_type": "code",
   "execution_count": 72,
   "metadata": {},
   "outputs": [
    {
     "data": {
      "text/plain": [
       "[2, 3, 4]"
      ]
     },
     "execution_count": 72,
     "metadata": {},
     "output_type": "execute_result"
    }
   ],
   "source": [
    "a[1:]"
   ]
  },
  {
   "cell_type": "code",
   "execution_count": 73,
   "metadata": {},
   "outputs": [
    {
     "data": {
      "text/plain": [
       "[1, 2]"
      ]
     },
     "execution_count": 73,
     "metadata": {},
     "output_type": "execute_result"
    }
   ],
   "source": [
    "a[:2]"
   ]
  },
  {
   "cell_type": "code",
   "execution_count": 74,
   "metadata": {},
   "outputs": [
    {
     "data": {
      "text/plain": [
       "[1, 3]"
      ]
     },
     "execution_count": 74,
     "metadata": {},
     "output_type": "execute_result"
    }
   ],
   "source": [
    "a[::2]"
   ]
  },
  {
   "cell_type": "markdown",
   "metadata": {},
   "source": [
    "#### Clear the list a and go back and put the above numbers in a !!"
   ]
  },
  {
   "cell_type": "code",
   "execution_count": 75,
   "metadata": {
    "scrolled": false
   },
   "outputs": [
    {
     "name": "stdout",
     "output_type": "stream",
     "text": [
      "The Zen of Python, by Tim Peters\n",
      "\n",
      "Beautiful is better than ugly.\n",
      "Explicit is better than implicit.\n",
      "Simple is better than complex.\n",
      "Complex is better than complicated.\n",
      "Flat is better than nested.\n",
      "Sparse is better than dense.\n",
      "Readability counts.\n",
      "Special cases aren't special enough to break the rules.\n",
      "Although practicality beats purity.\n",
      "Errors should never pass silently.\n",
      "Unless explicitly silenced.\n",
      "In the face of ambiguity, refuse the temptation to guess.\n",
      "There should be one-- and preferably only one --obvious way to do it.\n",
      "Although that way may not be obvious at first unless you're Dutch.\n",
      "Now is better than never.\n",
      "Although never is often better than *right* now.\n",
      "If the implementation is hard to explain, it's a bad idea.\n",
      "If the implementation is easy to explain, it may be a good idea.\n",
      "Namespaces are one honking great idea -- let's do more of those!\n"
     ]
    }
   ],
   "source": [
    "import this"
   ]
  },
  {
   "cell_type": "code",
   "execution_count": 76,
   "metadata": {},
   "outputs": [],
   "source": [
    "import numpy as np\n",
    "import matplotlib.pyplot as plt"
   ]
  },
  {
   "cell_type": "code",
   "execution_count": 77,
   "metadata": {},
   "outputs": [],
   "source": [
    "y = np.sin(a)"
   ]
  },
  {
   "cell_type": "code",
   "execution_count": 78,
   "metadata": {
    "scrolled": false
   },
   "outputs": [
    {
     "data": {
      "text/plain": [
       "<Figure size 640x640 with 0 Axes>"
      ]
     },
     "execution_count": 78,
     "metadata": {},
     "output_type": "execute_result"
    },
    {
     "data": {
      "image/png": "[encoded data removed]",
      "text/plain": [
       "<Figure size 432x288 with 4 Axes>"
      ]
     },
     "metadata": {
      "needs_background": "light"
     },
     "output_type": "display_data"
    },
    {
     "data": {
      "text/plain": [
       "<Figure size 640x640 with 0 Axes>"
      ]
     },
     "metadata": {},
     "output_type": "display_data"
    }
   ],
   "source": [
    "from matplotlib import rc\n",
    "\n",
    "a = np.linspace(1, 10, 50)   # start, end, how many points to sample\n",
    "y = np.sin(a)\n",
    "\n",
    "plt.subplot(3,1,1)\n",
    "plt.tight_layout()\n",
    "\n",
    "plt.plot(a,y, color='green', marker='^')\n",
    "plt.rc('text', usetex=True)\n",
    "plt.title(\"Sine Wave\")\n",
    "plt.xlabel(r\"$\\theta$ (rad)\")\n",
    "plt.ylabel(r\"Sine($\\theta$)\")\n",
    "plt.legend(\"sine\")\n",
    "\n",
    "plt.subplot(3,2,3)\n",
    "plt.plot(a,np.log(a), color='blue')\n",
    "\n",
    "plt.subplot(3,2,4)\n",
    "plt.plot(a,np.exp(a), color='red')\n",
    "\n",
    "plt.subplot(3,1,3)\n",
    "plt.plot(a,np.cos(a), color='cyan')\n",
    "plt.figure(num=None, figsize=(8, 8), dpi=80, facecolor='w', edgecolor='k')"
   ]
  },
  {
   "cell_type": "markdown",
   "metadata": {},
   "source": [
    "### Working with Files"
   ]
  },
  {
   "cell_type": "code",
   "execution_count": 79,
   "metadata": {},
   "outputs": [],
   "source": [
    "file = open(\"new.txt\", 'w')\n",
    "file.writelines(\"2,8\\n\")\n",
    "file.writelines(\"12,8\\n\")\n",
    "file.writelines(\"2,18\\n\")\n",
    "file.writelines(\"20,89\")\n",
    "file.write(\"1,32\\n\")\n",
    "file.close()"
   ]
  },
  {
   "cell_type": "code",
   "execution_count": 80,
   "metadata": {},
   "outputs": [
    {
     "name": "stdout",
     "output_type": "stream",
     "text": [
      "2,8\n",
      "12,8\n",
      "2,18\n",
      "20,891,32\n",
      "\n"
     ]
    }
   ],
   "source": [
    "file = open(\"new.txt\", 'r')   # file HANDLER\n",
    "print(file.read())   # Try without print\n",
    "file.close()         # This is required for safety."
   ]
  },
  {
   "cell_type": "markdown",
   "metadata": {},
   "source": [
    "There is also an append mode which just  \n",
    "adds to the file without replacing"
   ]
  },
  {
   "cell_type": "markdown",
   "metadata": {},
   "source": [
    "#### Prime numbers [Optional]"
   ]
  },
  {
   "cell_type": "code",
   "execution_count": 81,
   "metadata": {},
   "outputs": [],
   "source": [
    "def fact(n):\n",
    "    return [x for x in range(1, n+1) if n%x == 0]"
   ]
  },
  {
   "cell_type": "code",
   "execution_count": null,
   "metadata": {},
   "outputs": [],
   "source": []
  },
  {
   "cell_type": "code",
   "execution_count": 82,
   "metadata": {},
   "outputs": [],
   "source": [
    "def prime(n):\n",
    "    return([1,n] == fact(n))"
   ]
  },
  {
   "cell_type": "code",
   "execution_count": null,
   "metadata": {},
   "outputs": [],
   "source": []
  },
  {
   "cell_type": "code",
   "execution_count": 83,
   "metadata": {},
   "outputs": [
    {
     "data": {
      "text/plain": [
       "False"
      ]
     },
     "execution_count": 83,
     "metadata": {},
     "output_type": "execute_result"
    }
   ],
   "source": [
    "prime(4)"
   ]
  },
  {
   "cell_type": "code",
   "execution_count": 84,
   "metadata": {},
   "outputs": [
    {
     "data": {
      "text/plain": [
       "True"
      ]
     },
     "execution_count": 84,
     "metadata": {},
     "output_type": "execute_result"
    }
   ],
   "source": [
    "prime(5)"
   ]
  },
  {
   "cell_type": "code",
   "execution_count": 85,
   "metadata": {},
   "outputs": [],
   "source": [
    "def infiniteNumbers():\n",
    "    i = 0\n",
    "    while True:\n",
    "        yield i\n",
    "        i += 1"
   ]
  },
  {
   "cell_type": "code",
   "execution_count": null,
   "metadata": {},
   "outputs": [],
   "source": []
  },
  {
   "cell_type": "code",
   "execution_count": 86,
   "metadata": {},
   "outputs": [
    {
     "data": {
      "text/plain": [
       "<generator object infiniteNumbers at 0x7f4a378f3570>"
      ]
     },
     "execution_count": 86,
     "metadata": {},
     "output_type": "execute_result"
    }
   ],
   "source": [
    "infiniteNumbers()"
   ]
  },
  {
   "cell_type": "code",
   "execution_count": 87,
   "metadata": {},
   "outputs": [],
   "source": [
    "c = infiniteNumbers()"
   ]
  },
  {
   "cell_type": "code",
   "execution_count": 88,
   "metadata": {},
   "outputs": [
    {
     "data": {
      "text/plain": [
       "0"
      ]
     },
     "execution_count": 88,
     "metadata": {},
     "output_type": "execute_result"
    }
   ],
   "source": [
    "next(c)"
   ]
  },
  {
   "cell_type": "code",
   "execution_count": 89,
   "metadata": {},
   "outputs": [
    {
     "name": "stdout",
     "output_type": "stream",
     "text": [
      "2\n",
      "3\n",
      "5\n",
      "7\n",
      "11\n",
      "13\n",
      "17\n",
      "19\n",
      "23\n",
      "29\n",
      "31\n",
      "37\n",
      "41\n",
      "43\n",
      "47\n",
      "53\n",
      "59\n",
      "61\n",
      "67\n",
      "71\n",
      "73\n",
      "79\n",
      "83\n",
      "89\n",
      "97\n",
      "101\n",
      "103\n",
      "107\n",
      "109\n",
      "113\n",
      "127\n",
      "131\n",
      "137\n",
      "139\n",
      "149\n",
      "151\n",
      "157\n",
      "163\n",
      "167\n",
      "173\n",
      "179\n",
      "181\n",
      "191\n",
      "193\n",
      "197\n",
      "199\n",
      "211\n",
      "223\n",
      "227\n",
      "229\n",
      "233\n",
      "239\n",
      "241\n",
      "251\n",
      "257\n",
      "263\n",
      "269\n",
      "271\n",
      "277\n",
      "281\n",
      "283\n",
      "293\n",
      "307\n",
      "311\n",
      "313\n",
      "317\n",
      "331\n",
      "337\n",
      "347\n",
      "349\n",
      "353\n",
      "359\n",
      "367\n",
      "373\n",
      "379\n",
      "383\n",
      "389\n",
      "397\n",
      "401\n",
      "409\n",
      "419\n",
      "421\n",
      "431\n",
      "433\n",
      "439\n",
      "443\n",
      "449\n",
      "457\n",
      "461\n",
      "463\n",
      "467\n",
      "479\n",
      "487\n",
      "491\n",
      "499\n",
      "503\n",
      "509\n",
      "521\n",
      "523\n",
      "541\n",
      "547\n",
      "557\n",
      "563\n",
      "569\n",
      "571\n",
      "577\n",
      "587\n",
      "593\n",
      "599\n",
      "601\n",
      "607\n",
      "613\n",
      "617\n",
      "619\n",
      "631\n",
      "641\n",
      "643\n",
      "647\n",
      "653\n",
      "659\n",
      "661\n",
      "673\n",
      "677\n",
      "683\n",
      "691\n",
      "701\n",
      "709\n",
      "719\n",
      "727\n",
      "733\n",
      "739\n",
      "743\n",
      "751\n",
      "757\n",
      "761\n",
      "769\n",
      "773\n",
      "787\n",
      "797\n",
      "809\n",
      "811\n",
      "821\n",
      "823\n",
      "827\n",
      "829\n",
      "839\n",
      "853\n",
      "857\n",
      "859\n",
      "863\n",
      "877\n",
      "881\n",
      "883\n",
      "887\n",
      "907\n",
      "911\n",
      "919\n",
      "929\n",
      "937\n",
      "941\n",
      "947\n",
      "953\n",
      "967\n",
      "971\n",
      "977\n",
      "983\n",
      "991\n",
      "997\n",
      "1009\n",
      "1013\n",
      "1019\n",
      "1021\n",
      "1031\n",
      "1033\n",
      "1039\n",
      "1049\n",
      "1051\n",
      "1061\n",
      "1063\n",
      "1069\n",
      "1087\n",
      "1091\n",
      "1093\n",
      "1097\n",
      "1103\n",
      "1109\n",
      "1117\n",
      "1123\n",
      "1129\n",
      "1151\n",
      "1153\n",
      "1163\n",
      "1171\n",
      "1181\n",
      "1187\n",
      "1193\n",
      "1201\n",
      "1213\n",
      "1217\n",
      "1223\n",
      "1229\n",
      "1231\n",
      "1237\n",
      "1249\n",
      "1259\n",
      "1277\n",
      "1279\n",
      "1283\n",
      "1289\n",
      "1291\n",
      "1297\n",
      "1301\n",
      "1303\n",
      "1307\n",
      "1319\n",
      "1321\n",
      "1327\n",
      "1361\n",
      "1367\n",
      "1373\n",
      "1381\n",
      "1399\n",
      "1409\n",
      "1423\n",
      "1427\n",
      "1429\n",
      "1433\n",
      "1439\n",
      "1447\n",
      "1451\n",
      "1453\n",
      "1459\n",
      "1471\n",
      "1481\n",
      "1483\n",
      "1487\n",
      "1489\n",
      "1493\n",
      "1499\n",
      "1511\n",
      "1523\n",
      "1531\n",
      "1543\n",
      "1549\n",
      "1553\n",
      "1559\n",
      "1567\n",
      "1571\n",
      "1579\n",
      "1583\n",
      "1597\n",
      "1601\n",
      "1607\n",
      "1609\n",
      "1613\n",
      "1619\n",
      "1621\n",
      "1627\n",
      "1637\n",
      "1657\n",
      "1663\n",
      "1667\n",
      "1669\n",
      "1693\n",
      "1697\n",
      "1699\n",
      "1709\n",
      "1721\n",
      "1723\n",
      "1733\n",
      "1741\n",
      "1747\n",
      "1753\n",
      "1759\n",
      "1777\n",
      "1783\n",
      "1787\n",
      "1789\n",
      "1801\n",
      "1811\n",
      "1823\n",
      "1831\n",
      "1847\n",
      "1861\n",
      "1867\n",
      "1871\n",
      "1873\n",
      "1877\n",
      "1879\n",
      "1889\n",
      "1901\n",
      "1907\n",
      "1913\n",
      "1931\n",
      "1933\n",
      "1949\n",
      "1951\n",
      "1973\n",
      "1979\n",
      "1987\n",
      "1993\n",
      "1997\n",
      "1999\n",
      "2003\n",
      "2011\n",
      "2017\n",
      "2027\n",
      "2029\n",
      "2039\n",
      "2053\n",
      "2063\n",
      "2069\n",
      "2081\n",
      "2083\n",
      "2087\n",
      "2089\n",
      "2099\n",
      "2111\n",
      "2113\n",
      "2129\n",
      "2131\n",
      "2137\n",
      "2141\n",
      "2143\n",
      "2153\n",
      "2161\n",
      "2179\n",
      "2203\n",
      "2207\n",
      "2213\n",
      "2221\n",
      "2237\n",
      "2239\n",
      "2243\n",
      "2251\n",
      "2267\n",
      "2269\n",
      "2273\n",
      "2281\n",
      "2287\n",
      "2293\n",
      "2297\n",
      "2309\n",
      "2311\n",
      "2333\n",
      "2339\n",
      "2341\n",
      "2347\n",
      "2351\n",
      "2357\n",
      "2371\n",
      "2377\n",
      "2381\n",
      "2383\n",
      "2389\n",
      "2393\n",
      "2399\n",
      "2411\n",
      "2417\n",
      "2423\n",
      "2437\n",
      "2441\n",
      "2447\n",
      "2459\n",
      "2467\n",
      "2473\n",
      "2477\n",
      "2503\n",
      "2521\n",
      "2531\n",
      "2539\n",
      "2543\n",
      "2549\n",
      "2551\n",
      "2557\n",
      "2579\n",
      "2591\n",
      "2593\n",
      "2609\n",
      "2617\n",
      "2621\n",
      "2633\n",
      "2647\n",
      "2657\n",
      "2659\n",
      "2663\n",
      "2671\n",
      "2677\n",
      "2683\n",
      "2687\n",
      "2689\n",
      "2693\n",
      "2699\n",
      "2707\n",
      "2711\n",
      "2713\n",
      "2719\n",
      "2729\n",
      "2731\n",
      "2741\n",
      "2749\n",
      "2753\n",
      "2767\n",
      "2777\n",
      "2789\n",
      "2791\n",
      "2797\n",
      "2801\n",
      "2803\n",
      "2819\n",
      "2833\n",
      "2837\n",
      "2843\n",
      "2851\n",
      "2857\n",
      "2861\n",
      "2879\n",
      "2887\n",
      "2897\n",
      "2903\n",
      "2909\n",
      "2917\n",
      "2927\n",
      "2939\n",
      "2953\n",
      "2957\n",
      "2963\n",
      "2969\n",
      "2971\n",
      "2999\n",
      "3001\n",
      "3011\n",
      "3019\n",
      "3023\n",
      "3037\n",
      "3041\n",
      "3049\n",
      "3061\n",
      "3067\n",
      "3079\n",
      "3083\n",
      "3089\n",
      "3109\n",
      "3119\n",
      "3121\n",
      "3137\n",
      "3163\n",
      "3167\n",
      "3169\n",
      "3181\n",
      "3187\n",
      "3191\n",
      "3203\n",
      "3209\n",
      "3217\n",
      "3221\n",
      "3229\n",
      "3251\n",
      "3253\n",
      "3257\n",
      "3259\n",
      "3271\n",
      "3299\n",
      "3301\n",
      "3307\n",
      "3313\n",
      "3319\n",
      "3323\n",
      "3329\n",
      "3331\n",
      "3343\n",
      "3347\n",
      "3359\n",
      "3361\n",
      "3371\n",
      "3373\n",
      "3389\n",
      "3391\n",
      "3407\n",
      "3413\n",
      "3433\n",
      "3449\n",
      "3457\n",
      "3461\n",
      "3463\n",
      "3467\n",
      "3469\n",
      "3491\n",
      "3499\n",
      "3511\n",
      "3517\n",
      "3527\n",
      "3529\n",
      "3533\n",
      "3539\n",
      "3541\n",
      "3547\n",
      "3557\n",
      "3559\n",
      "3571\n",
      "3581\n",
      "3583\n",
      "3593\n",
      "3607\n",
      "3613\n",
      "3617\n",
      "3623\n",
      "3631\n",
      "3637\n",
      "3643\n",
      "3659\n",
      "3671\n",
      "3673\n",
      "3677\n",
      "3691\n",
      "3697\n",
      "3701\n",
      "3709\n",
      "3719\n",
      "3727\n",
      "3733\n",
      "3739\n",
      "3761\n",
      "3767\n",
      "3769\n",
      "3779\n",
      "3793\n",
      "3797\n",
      "3803\n",
      "3821\n",
      "3823\n",
      "3833\n",
      "3847\n",
      "3851\n",
      "3853\n",
      "3863\n",
      "3877\n",
      "3881\n",
      "3889\n",
      "3907\n",
      "3911\n",
      "3917\n",
      "3919\n",
      "3923\n",
      "3929\n",
      "3931\n",
      "3943\n",
      "3947\n",
      "3967\n",
      "3989\n",
      "4001\n",
      "4003\n",
      "4007\n",
      "4013\n",
      "4019\n",
      "4021\n",
      "4027\n",
      "4049\n",
      "4051\n",
      "4057\n",
      "4073\n",
      "4079\n",
      "4091\n",
      "4093\n",
      "4099\n",
      "4111\n",
      "4127\n",
      "4129\n",
      "4133\n",
      "4139\n",
      "4153\n",
      "4157\n",
      "4159\n",
      "4177\n",
      "4201\n",
      "4211\n",
      "4217\n",
      "4219\n",
      "4229\n",
      "4231\n",
      "4241\n",
      "4243\n",
      "4253\n",
      "4259\n",
      "4261\n",
      "4271\n",
      "4273\n",
      "4283\n",
      "4289\n",
      "4297\n",
      "4327\n",
      "4337\n",
      "4339\n",
      "4349\n",
      "4357\n",
      "4363\n",
      "4373\n",
      "4391\n",
      "4397\n",
      "4409\n",
      "4421\n",
      "4423\n",
      "4441\n",
      "4447\n",
      "4451\n",
      "4457\n",
      "4463\n",
      "4481\n",
      "4483\n",
      "4493\n",
      "4507\n",
      "4513\n",
      "4517\n",
      "4519\n",
      "4523\n",
      "4547\n",
      "4549\n",
      "4561\n",
      "4567\n",
      "4583\n",
      "4591\n",
      "4597\n",
      "4603\n",
      "4621\n",
      "4637\n",
      "4639\n",
      "4643\n",
      "4649\n",
      "4651\n",
      "4657\n",
      "4663\n",
      "4673\n",
      "4679\n",
      "4691\n",
      "4703\n",
      "4721\n",
      "4723\n",
      "4729\n",
      "4733\n",
      "4751\n",
      "4759\n",
      "4783\n",
      "4787\n",
      "4789\n",
      "4793\n",
      "4799\n",
      "4801\n",
      "4813\n",
      "4817\n",
      "4831\n",
      "4861\n",
      "4871\n",
      "4877\n",
      "4889\n",
      "4903\n",
      "4909\n",
      "4919\n",
      "4931\n",
      "4933\n",
      "4937\n",
      "4943\n",
      "4951\n",
      "4957\n",
      "4967\n",
      "4969\n",
      "4973\n",
      "4987\n",
      "4993\n",
      "4999\n",
      "5003\n",
      "5009\n",
      "5011\n",
      "5021\n",
      "5023\n",
      "5039\n",
      "5051\n",
      "5059\n",
      "5077\n",
      "5081\n",
      "5087\n",
      "5099\n",
      "5101\n",
      "5107\n",
      "5113\n",
      "5119\n",
      "5147\n",
      "5153\n",
      "5167\n",
      "5171\n",
      "5179\n",
      "5189\n",
      "5197\n",
      "5209\n",
      "5227\n",
      "5231\n",
      "5233\n",
      "5237\n",
      "5261\n",
      "5273\n",
      "5279\n",
      "5281\n",
      "5297\n",
      "5303\n",
      "5309\n",
      "5323\n",
      "5333\n",
      "5347\n",
      "5351\n",
      "5381\n",
      "5387\n",
      "5393\n",
      "5399\n",
      "5407\n",
      "5413\n",
      "5417\n",
      "5419\n",
      "5431\n",
      "5437\n",
      "5441\n",
      "5443\n",
      "5449\n",
      "5471\n",
      "5477\n",
      "5479\n",
      "5483\n",
      "5501\n",
      "5503\n",
      "5507\n",
      "5519\n",
      "5521\n",
      "5527\n",
      "5531\n",
      "5557\n",
      "5563\n",
      "5569\n",
      "5573\n",
      "5581\n",
      "5591\n",
      "5623\n",
      "5639\n",
      "5641\n",
      "5647\n",
      "5651\n",
      "5653\n",
      "5657\n",
      "5659\n",
      "5669\n",
      "5683\n",
      "5689\n",
      "5693\n",
      "5701\n",
      "5711\n",
      "5717\n",
      "5737\n",
      "5741\n",
      "5743\n",
      "5749\n",
      "5779\n",
      "5783\n",
      "5791\n",
      "5801\n",
      "5807\n",
      "5813\n",
      "5821\n",
      "5827\n",
      "5839\n",
      "5843\n",
      "5849\n",
      "5851\n",
      "5857\n",
      "5861\n",
      "5867\n",
      "5869\n",
      "5879\n",
      "5881\n",
      "5897\n",
      "5903\n",
      "5923\n",
      "5927\n",
      "5939\n",
      "5953\n",
      "5981\n",
      "5987\n",
      "6007\n",
      "6011\n",
      "6029\n",
      "6037\n",
      "6043\n",
      "6047\n",
      "6053\n",
      "6067\n",
      "6073\n",
      "6079\n",
      "6089\n",
      "6091\n",
      "6101\n",
      "6113\n",
      "6121\n",
      "6131\n",
      "6133\n",
      "6143\n",
      "6151\n",
      "6163\n",
      "6173\n",
      "6197\n",
      "6199\n",
      "6203\n",
      "6211\n",
      "6217\n",
      "6221\n",
      "6229\n",
      "6247\n",
      "6257\n",
      "6263\n",
      "6269\n",
      "6271\n",
      "6277\n",
      "6287\n",
      "6299\n",
      "6301\n",
      "6311\n",
      "6317\n",
      "6323\n",
      "6329\n",
      "6337\n",
      "6343\n",
      "6353\n",
      "6359\n",
      "6361\n",
      "6367\n",
      "6373\n",
      "6379\n",
      "6389\n",
      "6397\n",
      "6421\n",
      "6427\n",
      "6449\n",
      "6451\n",
      "6469\n",
      "6473\n",
      "6481\n",
      "6491\n",
      "6521\n",
      "6529\n",
      "6547\n",
      "6551\n",
      "6553\n",
      "6563\n",
      "6569\n",
      "6571\n",
      "6577\n",
      "6581\n",
      "6599\n",
      "6607\n",
      "6619\n",
      "6637\n",
      "6653\n",
      "6659\n",
      "6661\n",
      "6673\n",
      "6679\n",
      "6689\n",
      "6691\n",
      "6701\n",
      "6703\n",
      "6709\n",
      "6719\n",
      "6733\n",
      "6737\n",
      "6761\n",
      "6763\n",
      "6779\n",
      "6781\n",
      "6791\n",
      "6793\n",
      "6803\n",
      "6823\n",
      "6827\n",
      "6829\n",
      "6833\n",
      "6841\n",
      "6857\n",
      "6863\n",
      "6869\n",
      "6871\n",
      "6883\n",
      "6899\n",
      "6907\n",
      "6911\n",
      "6917\n",
      "6947\n",
      "6949\n",
      "6959\n",
      "6961\n",
      "6967\n",
      "6971\n",
      "6977\n",
      "6983\n",
      "6991\n",
      "6997\n",
      "7001\n",
      "7013\n",
      "7019\n",
      "7027\n",
      "7039\n",
      "7043\n",
      "7057\n",
      "7069\n",
      "7079\n",
      "7103\n",
      "7109\n",
      "7121\n",
      "7127\n",
      "7129\n",
      "7151\n",
      "7159\n",
      "7177\n",
      "7187\n",
      "7193\n",
      "7207\n",
      "7211\n",
      "7213\n",
      "7219\n",
      "7229\n",
      "7237\n",
      "7243\n",
      "7247\n",
      "7253\n",
      "7283\n",
      "7297\n",
      "7307\n",
      "7309\n",
      "7321\n",
      "7331\n",
      "7333\n",
      "7349\n",
      "7351\n",
      "7369\n",
      "7393\n",
      "7411\n",
      "7417\n",
      "7433\n",
      "7451\n",
      "7457\n",
      "7459\n",
      "7477\n",
      "7481\n",
      "7487\n",
      "7489\n",
      "7499\n",
      "7507\n",
      "7517\n",
      "7523\n",
      "7529\n",
      "7537\n",
      "7541\n",
      "7547\n",
      "7549\n",
      "7559\n",
      "7561\n",
      "7573\n",
      "7577\n",
      "7583\n",
      "7589\n",
      "7591\n",
      "7603\n",
      "7607\n",
      "7621\n",
      "7639\n",
      "7643\n",
      "7649\n",
      "7669\n",
      "7673\n",
      "7681\n",
      "7687\n",
      "7691\n",
      "7699\n",
      "7703\n",
      "7717\n",
      "7723\n",
      "7727\n",
      "7741\n",
      "7753\n",
      "7757\n",
      "7759\n",
      "7789\n",
      "7793\n",
      "7817\n",
      "7823\n",
      "7829\n",
      "7841\n",
      "7853\n",
      "7867\n",
      "7873\n",
      "7877\n",
      "7879\n",
      "7883\n",
      "7901\n",
      "7907\n",
      "7919\n",
      "7927\n",
      "7933\n",
      "7937\n",
      "7949\n",
      "7951\n",
      "7963\n",
      "7993\n",
      "8009\n",
      "8011\n",
      "8017\n",
      "8039\n",
      "8053\n",
      "8059\n",
      "8069\n",
      "8081\n",
      "8087\n",
      "8089\n",
      "8093\n",
      "8101\n",
      "8111\n",
      "8117\n",
      "8123\n",
      "8147\n",
      "8161\n",
      "8167\n",
      "8171\n",
      "8179\n",
      "8191\n",
      "8209\n",
      "8219\n",
      "8221\n",
      "8231\n",
      "8233\n",
      "8237\n",
      "8243\n",
      "8263\n",
      "8269\n",
      "8273\n",
      "8287\n",
      "8291\n",
      "8293\n",
      "8297\n",
      "8311\n",
      "8317\n",
      "8329\n",
      "8353\n",
      "8363\n",
      "8369\n",
      "8377\n",
      "8387\n",
      "8389\n",
      "8419\n",
      "8423\n",
      "8429\n",
      "8431\n",
      "8443\n",
      "8447\n",
      "8461\n",
      "8467\n",
      "8501\n",
      "8513\n",
      "8521\n",
      "8527\n",
      "8537\n",
      "8539\n",
      "8543\n",
      "8563\n",
      "8573\n",
      "8581\n",
      "8597\n",
      "8599\n",
      "8609\n",
      "8623\n",
      "8627\n",
      "8629\n",
      "8641\n",
      "8647\n",
      "8663\n",
      "8669\n",
      "8677\n",
      "8681\n",
      "8689\n",
      "8693\n",
      "8699\n",
      "8707\n",
      "8713\n",
      "8719\n",
      "8731\n",
      "8737\n",
      "8741\n",
      "8747\n",
      "8753\n",
      "8761\n",
      "8779\n",
      "8783\n",
      "8803\n",
      "8807\n",
      "8819\n",
      "8821\n",
      "8831\n",
      "8837\n",
      "8839\n",
      "8849\n",
      "8861\n",
      "8863\n",
      "8867\n",
      "8887\n",
      "8893\n",
      "8923\n",
      "8929\n",
      "8933\n",
      "8941\n",
      "8951\n",
      "8963\n",
      "8969\n",
      "8971\n",
      "8999\n",
      "9001\n",
      "9007\n",
      "9011\n",
      "9013\n",
      "9029\n",
      "9041\n",
      "9043\n",
      "9049\n",
      "9059\n",
      "9067\n",
      "9091\n",
      "9103\n",
      "9109\n",
      "9127\n",
      "9133\n",
      "9137\n",
      "9151\n",
      "9157\n",
      "9161\n",
      "9173\n",
      "9181\n",
      "9187\n",
      "9199\n",
      "9203\n",
      "9209\n",
      "9221\n",
      "9227\n",
      "9239\n",
      "9241\n",
      "9257\n",
      "9277\n",
      "9281\n",
      "9283\n",
      "9293\n",
      "9311\n",
      "9319\n",
      "9323\n",
      "9337\n",
      "9341\n",
      "9343\n",
      "9349\n",
      "9371\n",
      "9377\n",
      "9391\n",
      "9397\n",
      "9403\n",
      "9413\n",
      "9419\n",
      "9421\n",
      "9431\n",
      "9433\n",
      "9437\n",
      "9439\n",
      "9461\n",
      "9463\n",
      "9467\n",
      "9473\n",
      "9479\n",
      "9491\n",
      "9497\n",
      "9511\n",
      "9521\n",
      "9533\n",
      "9539\n",
      "9547\n",
      "9551\n",
      "9587\n",
      "9601\n",
      "9613\n",
      "9619\n",
      "9623\n",
      "9629\n",
      "9631\n",
      "9643\n",
      "9649\n",
      "9661\n",
      "9677\n",
      "9679\n",
      "9689\n",
      "9697\n",
      "9719\n",
      "9721\n",
      "9733\n",
      "9739\n",
      "9743\n",
      "9749\n",
      "9767\n",
      "9769\n",
      "9781\n",
      "9787\n",
      "9791\n",
      "9803\n",
      "9811\n",
      "9817\n",
      "9829\n",
      "9833\n",
      "9839\n",
      "9851\n",
      "9857\n",
      "9859\n",
      "9871\n",
      "9883\n",
      "9887\n",
      "9901\n",
      "9907\n",
      "9923\n",
      "9929\n",
      "9931\n",
      "9941\n",
      "9949\n",
      "9967\n",
      "9973\n"
     ]
    }
   ],
   "source": [
    "while True:\n",
    "    a = next(c)\n",
    "    if prime(a):\n",
    "        print(a)\n",
    "    if a >10000:\n",
    "        break"
   ]
  },
  {
   "cell_type": "markdown",
   "metadata": {},
   "source": [
    "##### Put this ^^ on a file "
   ]
  },
  {
   "cell_type": "code",
   "execution_count": null,
   "metadata": {},
   "outputs": [],
   "source": []
  },
  {
   "cell_type": "code",
   "execution_count": 90,
   "metadata": {},
   "outputs": [],
   "source": [
    "from datetime import date "
   ]
  },
  {
   "cell_type": "code",
   "execution_count": 91,
   "metadata": {},
   "outputs": [],
   "source": [
    "today = date.today()"
   ]
  },
  {
   "cell_type": "code",
   "execution_count": 92,
   "metadata": {},
   "outputs": [
    {
     "name": "stdout",
     "output_type": "stream",
     "text": [
      "2019-03-28\n"
     ]
    }
   ],
   "source": [
    "print(today)"
   ]
  },
  {
   "cell_type": "code",
   "execution_count": 93,
   "metadata": {},
   "outputs": [
    {
     "data": {
      "text/plain": [
       "2019"
      ]
     },
     "execution_count": 93,
     "metadata": {},
     "output_type": "execute_result"
    }
   ],
   "source": [
    "today.year"
   ]
  },
  {
   "cell_type": "code",
   "execution_count": 94,
   "metadata": {},
   "outputs": [],
   "source": [
    "tomorow = date(2020, 12, 22) # read date"
   ]
  },
  {
   "cell_type": "code",
   "execution_count": 95,
   "metadata": {},
   "outputs": [
    {
     "data": {
      "text/plain": [
       "datetime.date"
      ]
     },
     "execution_count": 95,
     "metadata": {},
     "output_type": "execute_result"
    }
   ],
   "source": [
    "type(tomorow)"
   ]
  },
  {
   "cell_type": "code",
   "execution_count": 96,
   "metadata": {},
   "outputs": [
    {
     "name": "stdout",
     "output_type": "stream",
     "text": [
      "2020-12-22\n"
     ]
    }
   ],
   "source": [
    "print(tomorow)"
   ]
  },
  {
   "cell_type": "code",
   "execution_count": 97,
   "metadata": {},
   "outputs": [
    {
     "data": {
      "text/plain": [
       "[0, 2, 4, 6, 8, 10, 12, 14, 16, 18]"
      ]
     },
     "execution_count": 97,
     "metadata": {},
     "output_type": "execute_result"
    }
   ],
   "source": [
    "[x for x in range(20) if x%2 == 0]"
   ]
  },
  {
   "cell_type": "markdown",
   "metadata": {},
   "source": [
    "### 2D array [optional]"
   ]
  },
  {
   "cell_type": "code",
   "execution_count": 98,
   "metadata": {},
   "outputs": [],
   "source": [
    "matrix = [[2,3], [3,4]]"
   ]
  },
  {
   "cell_type": "code",
   "execution_count": 99,
   "metadata": {},
   "outputs": [
    {
     "data": {
      "text/plain": [
       "[[2, 3], [3, 4]]"
      ]
     },
     "execution_count": 99,
     "metadata": {},
     "output_type": "execute_result"
    }
   ],
   "source": [
    "matrix"
   ]
  },
  {
   "cell_type": "code",
   "execution_count": 100,
   "metadata": {},
   "outputs": [
    {
     "data": {
      "text/plain": [
       "[3, 4]"
      ]
     },
     "execution_count": 100,
     "metadata": {},
     "output_type": "execute_result"
    }
   ],
   "source": [
    "matrix[1]"
   ]
  },
  {
   "cell_type": "code",
   "execution_count": 101,
   "metadata": {},
   "outputs": [
    {
     "data": {
      "text/plain": [
       "3"
      ]
     },
     "execution_count": 101,
     "metadata": {},
     "output_type": "execute_result"
    }
   ],
   "source": [
    "matrix[1][0]"
   ]
  },
  {
   "cell_type": "code",
   "execution_count": 102,
   "metadata": {},
   "outputs": [
    {
     "name": "stdout",
     "output_type": "stream",
     "text": [
      "2\n",
      "3\n",
      "3\n",
      "4\n"
     ]
    }
   ],
   "source": [
    "for row in matrix:\n",
    "    for element in row:\n",
    "        print(element)"
   ]
  },
  {
   "cell_type": "code",
   "execution_count": 103,
   "metadata": {},
   "outputs": [
    {
     "name": "stdout",
     "output_type": "stream",
     "text": [
      "2\n",
      "3\n",
      "3\n",
      "4\n"
     ]
    }
   ],
   "source": [
    "for row in range(len(matrix)):  \n",
    "    for column in range(len(matrix[row])):\n",
    "        print(matrix[row][column])\n",
    "        \n",
    "# This is where the range not including the <stop> and beginning\n",
    "# from value 0 by default makes sense."
   ]
  }
 ],
 "metadata": {
  "kernelspec": {
   "display_name": "Python 3",
   "language": "python",
   "name": "python3"
  },
  "language_info": {
   "codemirror_mode": {
    "name": "ipython",
    "version": 3
   },
   "file_extension": ".py",
   "mimetype": "text/x-python",
   "name": "python",
   "nbconvert_exporter": "python",
   "pygments_lexer": "ipython3",
   "version": "3.7.2"
  }
 },
 "nbformat": 4,
 "nbformat_minor": 2
}
