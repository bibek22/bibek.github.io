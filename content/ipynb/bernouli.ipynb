{
 "cells": [
  {
   "cell_type": "markdown",
   "metadata": {},
   "source": [
    "A system is said to be chaotic if it is highly sensitive to initial condition.\n",
    "Double pendulum is a classical example. Very little uncertainty or error in the\n",
    "initial condition gets amplified exponentially to be as large as the system\n",
    "size itself. A dynamical variable which is governed by such chaotic non linear\n",
    "dynamics looks very 'random'. We are going to explore more on this in this post.\n",
    "\n",
    "Let's suppose we have a variable x and a prescribed rule of evolution of this\n",
    "variable which goes as follows\n",
    "\n",
    "$$ x_1 =  f(x_0) = 2x\\textrm{ mod }1 \\qquad x \\in [0, 1]$$ \n",
    "\n",
    "Unlike differential dynamics, where system evolves in continuous time, what we\n",
    "have above is a descrete time dynamics, also known as maps. System maps from\n",
    "one state to another in descrete time steps as $x_0 \\rightarrow x_1 \\rightarrow x_2 \\rightarrow \\ldots$\n",
    "and so on. The example above is called the **Bernoulli Map**.\n",
    "\n",
    "You can plug in a few numbers and see that the range of the map is $[0,1]$ and\n",
    "the map itself is discontinuous at 0.5 above which mod 1 trims off the integer portion.\n",
    "\n",
    "<img src=\"/images/bernoulli-map.png\" width='200' class='center'/>\n",
    "\n",
    "Now, suppose we are only interested in which of the two halves the new point\n",
    "lands and not in the number itself. So, let's denote the the first half as $H$\n",
    "and the other as $T$.\n",
    "<img src=\"/images/bernoulli-map1.png\" width='150' class='center'/>\n",
    "\n",
    "As an example, let's start with $x_0 = 0.4$ and let's see how the system evolves\n",
    "keeping track of only $H$ and $T$'s as it lands on a new point.\n",
    "We begin with $x_0 = 0.4$ which would be $H$ and the first few strings in this\n",
    "series would be as follows:\n",
    "\n",
    "$$x_1 = 2\\cdot x_0 \\mod 1 = 0.8 \\rightarrow T$$\n",
    "$$x_2 = 1.6 \\mod 1 = 0.6 \\rightarrow T$$\n",
    "$$x_3 = 1.2 \\mod 1 = 0.2 \\rightarrow H$$\n",
    "$$x_4 = 0.4 \\mod 1 = 0.4 \\rightarrow H$$\n",
    "$$x_5 = 0.8 \\mod 1 = 0.8 \\rightarrow T$$\n",
    "$$\\vdots$$\n",
    "\n",
    "In this way, we can see the system evolves as $HTTHHTTHH$ and so on. In this\n",
    "example, the system retraces itself once it hits $x_4=0.4$. \n",
    "Let's check a few random numbers. In fact, let's get a little python script to do this for us.\n"
   ]
  },
  {
   "cell_type": "code",
   "execution_count": 1,
   "metadata": {},
   "outputs": [],
   "source": [
    "def bernouli(x):\n",
    "    for _ in range(15):\n",
    "        x = 2 * x % 1\n",
    "        if x <= 0.5:\n",
    "            print(\"H\", end=\"\")\n",
    "        else:\n",
    "            print(\"T\", end=\"\")"
   ]
  },
  {
   "cell_type": "code",
   "execution_count": 2,
   "metadata": {},
   "outputs": [
    {
     "name": "stdout",
     "output_type": "stream",
     "text": [
      "THHTTHHTTHHTTHH"
     ]
    }
   ],
   "source": [
    "bernouli(0.3)"
   ]
  },
  {
   "cell_type": "code",
   "execution_count": 3,
   "metadata": {},
   "outputs": [
    {
     "name": "stdout",
     "output_type": "stream",
     "text": [
      "TTHHTTHHTTHHTTH"
     ]
    }
   ],
   "source": [
    "bernouli(0.40)"
   ]
  },
  {
   "cell_type": "code",
   "execution_count": 4,
   "metadata": {},
   "outputs": [
    {
     "name": "stdout",
     "output_type": "stream",
     "text": [
      "HTHHTTHHTTHHTTH"
     ]
    }
   ],
   "source": [
    "bernouli(0.15)"
   ]
  },
  {
   "cell_type": "markdown",
   "metadata": {},
   "source": [
    "\n",
    "One can prove that if the initial point is a rational number, the system\n",
    "eventually goes into a periodic orbit.\n",
    "\n",
    "But if $x_0$ is irrational, the system never visits the same point again which implies\n",
    "the pattern of H and T never repeats itself.\n",
    "\n",
    "It is obvious that Bernouli map describes a deterministic system. Given the initial \n",
    "condition, you can figure out the state of the system at any point in the future(after\n",
    "descrete time evolution) with certainty. This is unlike any stochastic system.\n",
    "\n",
    "But, as you might have noticed this is remenescent of a stochastic system in some way.\n",
    "\n",
    "The non-repeating of the pattern in case of irational numbers combined with the fact that\n",
    "the irrational numbers densely pack real numbers (more densely, in fact, than rational numbers)\n",
    ", it is possible to find a initial point in the domain $(0,1)$ such that the system evolves to give\n",
    "a pattern of H and T identical to the result of any sequence of random bernouli trails.\n",
    "\n",
    "Let's flip a coin N times. Let N = 4 just for the example. And let's say we get the following outcome:\n",
    "$HTTH$\n",
    "Now, the question is: could we taylor an initial point such that it produces this exact sequence in its\n",
    "first four steps. The thing to realize to convince yourself of this is that for each letter added in the sequence, you half the size of possible initial conditions in the domain.\n",
    "\n",
    "<img src=\"/images/bernoulli-map2.png\" width='150' class='center'/>\n",
    "\n",
    "In the diagram above, only the gray shaded portion of the domain maps to H in the next step. And if you require either H or T in the steps after that, the initial choice halves again.\n",
    "\n",
    "So, measure of possible initial choice given a string of N characters is \n",
    "$$\\Big(\\frac{1}{2}\\Big)^N$$\n",
    "\n",
    "This implies, there exist points in the domain that can reproduce any result of a sequence of Bernouli trails. \n",
    "\n",
    "And another important thing here is that this system is sensitive to initial condition. Any error in specifying the initial condition grows exponentially. This is characteristic of a chaotic system. In particular it doubles on each step. Hence, the lyapunov exponent for Bernouli map is $\\ln(2)$.\n",
    "\n",
    "This convinces me that it's very difficult to tell apart a *stochastic* system from a system governed by chaotic non-linear but importantly *deterministic* laws."
   ]
  }
 ],
 "metadata": {
  "kernelspec": {
   "display_name": "Python 3",
   "language": "python",
   "name": "python3"
  },
  "language_info": {
   "codemirror_mode": {
    "name": "ipython",
    "version": 3
   },
   "file_extension": ".py",
   "mimetype": "text/x-python",
   "name": "python",
   "nbconvert_exporter": "python",
   "pygments_lexer": "ipython3",
   "version": "3.7.3"
  }
 },
 "nbformat": 4,
 "nbformat_minor": 4
}
